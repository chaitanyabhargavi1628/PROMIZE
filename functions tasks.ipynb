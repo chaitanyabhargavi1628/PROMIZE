{
 "cells": [
  {
   "cell_type": "code",
   "execution_count": 35,
   "metadata": {},
   "outputs": [
    {
     "name": "stdout",
     "output_type": "stream",
     "text": [
      "1\n"
     ]
    }
   ],
   "source": [
    "#substringCount('str', 'substr') -> 1\n",
    "#substringCount('1234567891122334455', '3') -> 3\n",
    "#substringCount('abccddccc', 'cc') -> 3\n",
    "#substringCount('aaaaaaa', 'aaa' ) -> 5\n",
    "\n",
    "def substringcount(string):\n",
    "   \n",
    "    if 'str' in string:\n",
    "        print(string.count('str'))\n",
    "substringcount(\"substr\")\n"
   ]
  },
  {
   "cell_type": "code",
   "execution_count": 36,
   "metadata": {},
   "outputs": [
    {
     "name": "stdout",
     "output_type": "stream",
     "text": [
      "3\n"
     ]
    }
   ],
   "source": [
    "def substringcount(strn):\n",
    "    if '3' in strn:\n",
    "        print(strn.count('3'))\n",
    "substringcount(\"1234567891122334455\")"
   ]
  },
  {
   "cell_type": "code",
   "execution_count": 37,
   "metadata": {},
   "outputs": [
    {
     "name": "stdout",
     "output_type": "stream",
     "text": [
      "2\n"
     ]
    }
   ],
   "source": [
    "def substringcount(string):\n",
    "    if \"cc\" in string:\n",
    "        print(string.count(\"cc\"))\n",
    "substringcount(\"abccddccc\")"
   ]
  },
  {
   "cell_type": "code",
   "execution_count": 46,
   "metadata": {},
   "outputs": [
    {
     "name": "stdout",
     "output_type": "stream",
     "text": [
      "3\n"
     ]
    }
   ],
   "source": [
    "def substringcount(string):\n",
    "    if \"aa\" in string:\n",
    "        print(string.count(\"aa\"))\n",
    "substringcount(\"aaaaaaa\")"
   ]
  },
  {
   "cell_type": "code",
   "execution_count": 59,
   "metadata": {},
   "outputs": [
    {
     "name": "stdout",
     "output_type": "stream",
     "text": [
      "5\n"
     ]
    }
   ],
   "source": [
    "def substringcount(s):\n",
    "    sb = \"aaa\"\n",
    "    results = 0\n",
    "    sublen = len(sb)\n",
    "    for i in range(len(s)):\n",
    "        if s[i:i+sublen] == sb:\n",
    "            results += 1\n",
    "    print (results)\n",
    "substringcount(\"aaaaaaa\")"
   ]
  },
  {
   "cell_type": "code",
   "execution_count": null,
   "metadata": {},
   "outputs": [],
   "source": [
    "#non-prime factors\n",
    "#For a given integer N, find the total number of Non - Prime Factors in the range (1, N) (both exclusive) that do not contain the digit 0\n",
    "#nonPrimeFactorsCount( 100 ) -> 2\n",
    "#nonPrimeFactorsCount( 50 ) -> 1\n",
    "Number = int(input(\" Please Enter any Number: \"))\n",
    "\n",
    "for i in range(2, Number + 1):\n",
    "    if  not (Number % i == 0):\n",
    "        isprime = 1\n",
    "        for j in range(2, (i //2 + 1)):\n",
    "            if(i % j == 0):\n",
    "                isprime = 0\n",
    "                \n",
    "            \n",
    "        if (isprime == 1):\n",
    "            print(\" %d is not a Prime Factor of a Given Number %d\" %(i, Number))"
   ]
  },
  {
   "cell_type": "code",
   "execution_count": null,
   "metadata": {},
   "outputs": [],
   "source": [
    "import math\n",
    "import operator\n",
    "import functools\n",
    "\n",
    "def isprime (n):\n",
    "    if n == 1:\n",
    "        return False\n",
    "    elif n == 2:\n",
    "        return True\n",
    "    else:\n",
    "        for x in range (2, int(math.sqrt(n))+1):\n",
    "            if n % x == 0:\n",
    "                return False\n",
    "                break\n",
    "        else:\n",
    "            return True\n",
    "def factors (a):\n",
    "    factor = []\n",
    "    if isprime(a) == True:\n",
    "        print (\"The number is a prime.\")\n",
    "    else:   \n",
    "        while functools.reduce(operator.mul, factor, 1) != a:\n",
    "            for x in range (1, a):\n",
    "                if a % x == 0:\n",
    "                    if isprime(x) == True:\n",
    "                        factor.append(x)\n",
    "        factorlist.sort()\n",
    "        print (factor)\n",
    "\n",
    "testnumber = int(input(\"Enter a number.\"))\n",
    "factors(testnumber)\n"
   ]
  },
  {
   "cell_type": "code",
   "execution_count": null,
   "metadata": {},
   "outputs": [],
   "source": []
  },
  {
   "cell_type": "code",
   "execution_count": null,
   "metadata": {},
   "outputs": [],
   "source": []
  }
 ],
 "metadata": {
  "kernelspec": {
   "display_name": "Python 3",
   "language": "python",
   "name": "python3"
  },
  "language_info": {
   "codemirror_mode": {
    "name": "ipython",
    "version": 3
   },
   "file_extension": ".py",
   "mimetype": "text/x-python",
   "name": "python",
   "nbconvert_exporter": "python",
   "pygments_lexer": "ipython3",
   "version": "3.6.5"
  }
 },
 "nbformat": 4,
 "nbformat_minor": 2
}
