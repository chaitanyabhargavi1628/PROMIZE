{
 "cells": [
  {
   "cell_type": "code",
   "execution_count": 1,
   "metadata": {},
   "outputs": [
    {
     "name": "stdout",
     "output_type": "stream",
     "text": [
      "HI\n"
     ]
    }
   ],
   "source": [
    "print(\"HI\")"
   ]
  },
  {
   "cell_type": "code",
   "execution_count": 2,
   "metadata": {},
   "outputs": [
    {
     "name": "stdout",
     "output_type": "stream",
     "text": [
      "True\n",
      "False\n",
      "True\n",
      "False\n",
      "False\n",
      "True\n",
      "False\n",
      "True\n",
      "False\n",
      "True\n",
      "True\n",
      "False\n"
     ]
    }
   ],
   "source": [
    "def sameCount(s):\n",
    "    for i in range(len(s)):\n",
    "        k=ord(s[i])>=65 and ord(s[i])<=90\n",
    "        l=ord(s[i])>=97 and ord(s[i])<=122\n",
    "        if k==l:\n",
    "            print(\"same count\")\n",
    "        else:\n",
    "            print(k)\n",
    "            print(l)\n",
    "    return\n",
    "sameCount(\"PYthoN\")\n",
    "        "
   ]
  },
  {
   "cell_type": "code",
   "execution_count": 3,
   "metadata": {},
   "outputs": [
    {
     "data": {
      "text/plain": [
       "'samecount'"
      ]
     },
     "execution_count": 3,
     "metadata": {},
     "output_type": "execute_result"
    }
   ],
   "source": [
    "def count(s):\n",
    "    upper=0\n",
    "    lower=0\n",
    "    for i in range(len(s)):\n",
    "        if ord(s[i])>=65 and ord(s[i])<=90:\n",
    "            upper+=1\n",
    "        elif ord(s[i])>=97 and ord(s[i])<=122:\n",
    "            lower+=1\n",
    "    if upper==lower:\n",
    "        return \"samecount\"\n",
    "    return \"programming\"\n",
    "count(\"PYthon\")\n",
    "count(\"PYThon\")\n",
    "            "
   ]
  },
  {
   "cell_type": "code",
   "execution_count": 4,
   "metadata": {},
   "outputs": [],
   "source": [
    "def count(s):\n",
    "    for i in range(len(s)):\n",
    "        if type(s)==int:\n",
    "            print(str(s[i]),end='')\n",
    "    return\n",
    "count(\"appli18cation89\")"
   ]
  },
  {
   "cell_type": "code",
   "execution_count": 5,
   "metadata": {},
   "outputs": [
    {
     "name": "stdout",
     "output_type": "stream",
     "text": [
      "1888"
     ]
    }
   ],
   "source": [
    "def count(s):\n",
    "    for i in range(len(s)):\n",
    "        if ord(s[i])>=48 and ord(s[i])<=57:\n",
    "            print(s[i],end='')\n",
    "            \n",
    "    return\n",
    "count(\"appli18cation88\")"
   ]
  },
  {
   "cell_type": "code",
   "execution_count": 6,
   "metadata": {},
   "outputs": [
    {
     "data": {
      "text/plain": [
       "25"
      ]
     },
     "execution_count": 6,
     "metadata": {},
     "output_type": "execute_result"
    }
   ],
   "source": [
    "#adding the number in the given string\n",
    "def count(s):\n",
    "    sum=0\n",
    "    for i in range(len(s)):\n",
    "        if ord(s[i])>=48 and ord(s[i])<=57:\n",
    "            sum=sum+(ord(s[i])-48)   \n",
    "    return sum\n",
    "count(\"appli18cation88\")"
   ]
  },
  {
   "cell_type": "code",
   "execution_count": 7,
   "metadata": {},
   "outputs": [
    {
     "name": "stdout",
     "output_type": "stream",
     "text": [
      "MADE"
     ]
    }
   ],
   "source": [
    "# second word is uppercase is \n",
    "# input : Python Made Easy   o/p:MADE\n",
    "#input  :Learn Python String  o/p:PYTHON\n",
    "def upperCase(s):\n",
    "    cntSpace=0\n",
    "    for i in range(len(s)):\n",
    "        if ord(s[i])==32:\n",
    "            cntSpace+=1\n",
    "        if cntSpace==1:\n",
    "            if ord(s[i])>=65 and ord(s[i])<=90:\n",
    "                print(s[i],end='')\n",
    "            elif  ord(s[i])>=97 and ord(s[i])<=122:\n",
    "                print(chr(ord(s[i])-32),end='')\n",
    "        if cntSpace==2:\n",
    "            break\n",
    "    return\n",
    "upperCase(\"Python Made Easy \")\n",
    "            \n",
    "            \n"
   ]
  },
  {
   "cell_type": "code",
   "execution_count": 31,
   "metadata": {},
   "outputs": [
    {
     "name": "stdout",
     "output_type": "stream",
     "text": [
      "enter a number9\n",
      "20\n"
     ]
    }
   ],
   "source": [
    "sum=0\n",
    "x=int(input(\"enter a number\"))\n",
    "for i in range(0,x):\n",
    "        if (i%2==0):\n",
    "            sum=sum+i\n",
    "print(sum)\n",
    "            \n",
    "        "
   ]
  },
  {
   "cell_type": "code",
   "execution_count": 13,
   "metadata": {},
   "outputs": [
    {
     "name": "stdout",
     "output_type": "stream",
     "text": [
      "s\n"
     ]
    }
   ],
   "source": [
    "print(\"s\")"
   ]
  },
  {
   "cell_type": "code",
   "execution_count": 56,
   "metadata": {},
   "outputs": [
    {
     "name": "stdout",
     "output_type": "stream",
     "text": [
      "enter a number 4\n",
      "4 x 1 = 4\n",
      "4 x 2 = 8\n",
      "4 x 3 = 12\n",
      "4 x 4 = 16\n",
      "4 x 5 = 20\n",
      "4 x 6 = 24\n",
      "4 x 7 = 28\n",
      "4 x 8 = 32\n",
      "4 x 9 = 36\n",
      "4 x 10 = 40\n"
     ]
    }
   ],
   "source": [
    "\n",
    "num=int(input(\"enter a number \"))\n",
    "for i in range(1,11):\n",
    "    print(num,'x',i,'=',num*i)"
   ]
  },
  {
   "cell_type": "markdown",
   "metadata": {},
   "source": [
    "list "
   ]
  },
  {
   "cell_type": "code",
   "execution_count": 64,
   "metadata": {},
   "outputs": [],
   "source": [
    "li=[2,3,6,4,6,9,0,3,6]\n",
    "li\n",
    "li.append(8)\n",
    "li.insert(0,1)\n",
    "li.count(3)\n",
    "li.sort()"
   ]
  },
  {
   "cell_type": "code",
   "execution_count": 99,
   "metadata": {},
   "outputs": [],
   "source": [
    "\n",
    "a=[]\n",
    "for i in range(1,5):\n",
    "    sum=2*i\n",
    "    a.append(i)\n",
    "\n",
    "\n",
    "    \n",
    "    \n"
   ]
  },
  {
   "cell_type": "markdown",
   "metadata": {},
   "source": [
    "file handiling"
   ]
  },
  {
   "cell_type": "code",
   "execution_count": 3,
   "metadata": {},
   "outputs": [],
   "source": [
    "def createFile(filename):\n",
    "    f=open(filename,'w')\n",
    "createFile(\"data.txt\")"
   ]
  },
  {
   "cell_type": "code",
   "execution_count": 11,
   "metadata": {},
   "outputs": [
    {
     "name": "stdout",
     "output_type": "stream",
     "text": [
      "file success\n"
     ]
    }
   ],
   "source": [
    "def createFile(filename):\n",
    "    f=open(filename,'a')\n",
    "    f.write(\" file\")\n",
    "    print(\"file success\")\n",
    "    return\n",
    "createFile(\"data.txt\")"
   ]
  },
  {
   "cell_type": "code",
   "execution_count": 12,
   "metadata": {},
   "outputs": [
    {
     "name": "stdout",
     "output_type": "stream",
     "text": [
      "line to file file file file file\n"
     ]
    }
   ],
   "source": [
    "def read(filename):\n",
    "    f=open(filename,'r')\n",
    "    if f.mode=='r':\n",
    "        a=f.read()\n",
    "        print(a)\n",
    "    f.close()\n",
    "    return\n",
    "read(\"data.txt\")"
   ]
  },
  {
   "cell_type": "code",
   "execution_count": 16,
   "metadata": {},
   "outputs": [
    {
     "name": "stdout",
     "output_type": "stream",
     "text": [
      "['line', 'to', 'file', 'file', 'file', 'file', 'file']\n"
     ]
    },
    {
     "data": {
      "text/plain": [
       "7"
      ]
     },
     "execution_count": 16,
     "metadata": {},
     "output_type": "execute_result"
    }
   ],
   "source": [
    "def wordcount(filename):\n",
    "    with open(filename,'r')as f:\n",
    "        if f.mode=='r':\n",
    "            a=f.read()\n",
    "            li=a.split()\n",
    "            print(li)\n",
    "    return len(li)\n",
    "wordcount(\"data.txt\")\n",
    "    "
   ]
  },
  {
   "cell_type": "code",
   "execution_count": 3,
   "metadata": {},
   "outputs": [
    {
     "name": "stdout",
     "output_type": "stream",
     "text": [
      "python\n"
     ]
    }
   ],
   "source": [
    "li=[\"python\",\" programming\"]\n",
    "print(li[0])"
   ]
  },
  {
   "cell_type": "code",
   "execution_count": null,
   "metadata": {},
   "outputs": [],
   "source": []
  }
 ],
 "metadata": {
  "kernelspec": {
   "display_name": "Python 3",
   "language": "python",
   "name": "python3"
  },
  "language_info": {
   "codemirror_mode": {
    "name": "ipython",
    "version": 3
   },
   "file_extension": ".py",
   "mimetype": "text/x-python",
   "name": "python",
   "nbconvert_exporter": "python",
   "pygments_lexer": "ipython3",
   "version": "3.6.5"
  }
 },
 "nbformat": 4,
 "nbformat_minor": 2
}
